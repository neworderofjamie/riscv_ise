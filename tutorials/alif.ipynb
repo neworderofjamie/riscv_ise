{
  "nbformat": 4,
  "nbformat_minor": 0,
  "metadata": {
    "colab": {
      "provenance": [],
      "authorship_tag": "ABX9TyOL7uov/z/VSd6lrgBNRC1x",
      "include_colab_link": true
    },
    "kernelspec": {
      "name": "python3",
      "display_name": "Python 3"
    },
    "language_info": {
      "name": "python"
    }
  },
  "cells": [
    {
      "cell_type": "markdown",
      "metadata": {
        "id": "view-in-github",
        "colab_type": "text"
      },
      "source": [
        "<a href=\"https://colab.research.google.com/github/neworderofjamie/riscv_ise/blob/compiler/tutorials/alif.ipynb\" target=\"_parent\"><img src=\"https://colab.research.google.com/assets/colab-badge.svg\" alt=\"Open In Colab\"/></a>"
      ]
    },
    {
      "cell_type": "markdown",
      "source": [
        "There are lots of rough edges here: error checking is lacking in places, the compiler supports an even smaller subset of C than it should and the wrapping of various bits of API is not very Pythonic.\n",
        "\n",
        "# Installation\n",
        "The current prototype FeNN toolchain is a little bit tricky to build as it re-uses parts of GeNN (mostly the type system and the GeNNCode scanner, parser and type checker) so, on colab, we can install a prebuilt wheel from my google drive:"
      ],
      "metadata": {
        "id": "624VTiGFPybz"
      }
    },
    {
      "cell_type": "code",
      "execution_count": 1,
      "metadata": {
        "id": "eIzpesmnPvMD",
        "outputId": "f304bd71-246e-49d8-88c6-a1c0635cb321",
        "colab": {
          "base_uri": "https://localhost:8080/"
        }
      },
      "outputs": [
        {
          "output_type": "stream",
          "name": "stdout",
          "text": [
            "Downloading...\n",
            "From: https://drive.google.com/uc?id=1hEx5nI2ITfmrrjfidr5y1SyWnsjFI8Qq\n",
            "To: /content/pyfenn-0.0.1-cp311-cp311-linux_x86_64.whl\n",
            "\r  0% 0.00/6.38M [00:00<?, ?B/s]\r 74% 4.72M/6.38M [00:00<00:00, 47.1MB/s]\r100% 6.38M/6.38M [00:00<00:00, 55.5MB/s]\n",
            "Processing ./pyfenn-0.0.1-cp311-cp311-linux_x86_64.whl\n",
            "Requirement already satisfied: numpy>=1.17 in /usr/local/lib/python3.11/dist-packages (from pyfenn==0.0.1) (2.0.2)\n",
            "Requirement already satisfied: psutil in /usr/local/lib/python3.11/dist-packages (from pyfenn==0.0.1) (5.9.5)\n",
            "Requirement already satisfied: setuptools in /usr/local/lib/python3.11/dist-packages (from pyfenn==0.0.1) (75.2.0)\n",
            "Installing collected packages: pyfenn\n",
            "Successfully installed pyfenn-0.0.1\n"
          ]
        }
      ],
      "source": [
        "if \"google.colab\" in str(get_ipython()):\n",
        "    !gdown 1hEx5nI2ITfmrrjfidr5y1SyWnsjFI8Qq\n",
        "    !pip install pyfenn-0.0.1-cp311-cp311-linux_x86_64.whl"
      ]
    },
    {
      "cell_type": "code",
      "source": [
        "import numpy as np\n",
        "import matplotlib.pyplot as plt\n",
        "\n",
        "from pyfenn import (BackendFeNNSim, EventContainer, Model, NeuronUpdateProcess,\n",
        "                    NumericValue, Parameter, PlogSeverity, ProcessGroup,\n",
        "                    Runtime, Shape, UnresolvedType, Variable)\n",
        "\n",
        "from pyfenn import disassemble, init_logging\n",
        "from pyfenn.utils import get_array_view, zero_and_push"
      ],
      "metadata": {
        "id": "JcqjzC6oQ8hI",
        "outputId": "00dc04e9-8e89-4a7c-9b5a-c1e757eb5482",
        "colab": {
          "base_uri": "https://localhost:8080/",
          "height": 384
        }
      },
      "execution_count": 2,
      "outputs": [
        {
          "output_type": "error",
          "ename": "ModuleNotFoundError",
          "evalue": "No module named 'models'",
          "traceback": [
            "\u001b[0;31m---------------------------------------------------------------------------\u001b[0m",
            "\u001b[0;31mModuleNotFoundError\u001b[0m                       Traceback (most recent call last)",
            "\u001b[0;32m<ipython-input-2-48bd9e706b7d>\u001b[0m in \u001b[0;36m<cell line: 0>\u001b[0;34m()\u001b[0m\n\u001b[1;32m      5\u001b[0m                     \u001b[0mNumericValue\u001b[0m\u001b[0;34m,\u001b[0m \u001b[0mParameter\u001b[0m\u001b[0;34m,\u001b[0m \u001b[0mPlogSeverity\u001b[0m\u001b[0;34m,\u001b[0m \u001b[0mProcessGroup\u001b[0m\u001b[0;34m,\u001b[0m\u001b[0;34m\u001b[0m\u001b[0;34m\u001b[0m\u001b[0m\n\u001b[1;32m      6\u001b[0m                     Runtime, Shape, UnresolvedType, Variable)\n\u001b[0;32m----> 7\u001b[0;31m \u001b[0;32mfrom\u001b[0m \u001b[0mmodels\u001b[0m \u001b[0;32mimport\u001b[0m \u001b[0mCopy\u001b[0m\u001b[0;34m\u001b[0m\u001b[0;34m\u001b[0m\u001b[0m\n\u001b[0m\u001b[1;32m      8\u001b[0m \u001b[0;34m\u001b[0m\u001b[0m\n\u001b[1;32m      9\u001b[0m \u001b[0;32mfrom\u001b[0m \u001b[0mpyfenn\u001b[0m \u001b[0;32mimport\u001b[0m \u001b[0mdisassemble\u001b[0m\u001b[0;34m,\u001b[0m \u001b[0minit_logging\u001b[0m\u001b[0;34m\u001b[0m\u001b[0;34m\u001b[0m\u001b[0m\n",
            "\u001b[0;31mModuleNotFoundError\u001b[0m: No module named 'models'",
            "",
            "\u001b[0;31m---------------------------------------------------------------------------\u001b[0;32m\nNOTE: If your import is failing due to a missing package, you can\nmanually install dependencies using either !pip or !apt.\n\nTo view examples of installing some common dependencies, click the\n\"Open Examples\" button below.\n\u001b[0;31m---------------------------------------------------------------------------\u001b[0m\n"
          ],
          "errorDetails": {
            "actions": [
              {
                "action": "open_url",
                "actionText": "Open Examples",
                "url": "/notebooks/snippets/importing_libraries.ipynb"
              }
            ]
          }
        }
      ]
    },
    {
      "cell_type": "code",
      "source": [
        "background_rate = 0.5\n",
        "rate = 7846 / 1370\n",
        "num_timesteps = 1000\n",
        "\n"
      ],
      "metadata": {
        "id": "20L-qEVIQQty"
      },
      "execution_count": null,
      "outputs": []
    },
    {
      "cell_type": "code",
      "source": [
        "# Generate poisson data with two periods of average firing interspersed by background\n",
        "data = np.zeros(num_timesteps)\n",
        "data[0:1000] = np.random.poisson(rate, 1000)\n",
        "\"\"\"\n",
        "data[0:2000] = np.random.poisson(rate, 2000)\n",
        "data[2000:4000] = np.random.poisson(background_rate, 2000)\n",
        "data[4000:5000] = np.random.poisson(rate, 1000)\n",
        "\n",
        "data_bad = np.zeros(num_timesteps)\n",
        "data_bad[0:2000] = np.random.poisson(rate, 2000)\n",
        "data_bad[2000:4000] = np.random.poisson(rate * 1.4, 2000)\n",
        "data_bad[4000:5000] = np.random.poisson(rate * 1.7, 1000)\n",
        "\"\"\"\n",
        "repeated_data = np.repeat(data[:,None], 32, axis=1).astype(np.int16)\n",
        "#repeated_data_bad = np.repeat(data_bad[:,None], 32, axis=1).astype(np.int16)"
      ],
      "metadata": {
        "id": "K7Y_kvWkQQrk"
      },
      "execution_count": null,
      "outputs": []
    },
    {
      "cell_type": "code",
      "source": [
        "fig, axes = plt.subplots(2, sharex=True)\n",
        "\n",
        "axes[0].plot(data)\n",
        "axes[1].plot(data_bad)\n",
        "\n",
        "axes[0].set_ylabel(\"Rate [spikes/timestep]\")\n",
        "axes[1].set_ylabel(\"Rate [spikes/timestep]\")\n",
        "axes[1].set_xlabel(\"Time [timestep]\")"
      ],
      "metadata": {
        "id": "Bn-NJJyXRGUv"
      },
      "execution_count": null,
      "outputs": []
    },
    {
      "cell_type": "code",
      "source": [
        "class ALIF:\n",
        "    def __init__(self, shape, tau_m: float, tau_a: float, tau_refrac: int,\n",
        "                 v_thresh: float, beta: float, weight:float, num_timesteps: int):\n",
        "        self.shape = Shape(shape)\n",
        "        v_dtype = UnresolvedType(\"s6_9_sat_t\")\n",
        "        a_dtype = UnresolvedType(\"s6_9_sat_t\")\n",
        "        decay_dtype = UnresolvedType(\"s0_15_sat_t\")\n",
        "        self.v = Variable(self.shape, v_dtype)\n",
        "        self.a = Variable(self.shape, a_dtype)\n",
        "        self.i = Variable(self.shape, v_dtype, num_timesteps)\n",
        "        self.refrac_time = Variable(self.shape, UnresolvedType(\"int16_t\"))\n",
        "        self.process = NeuronUpdateProcess(\n",
        "            \"\"\"\n",
        "            V = (Alpha * V) + (Weight * I);\n",
        "            A *= Rho;\n",
        "\n",
        "            if (RefracTime > 0) {\n",
        "               RefracTime -= 1;\n",
        "            }\n",
        "            else if(V >= (VThresh + (Beta * A))) {\n",
        "               V -= VThresh;\n",
        "               A += 1.0h9;\n",
        "               RefracTime = TauRefrac;\n",
        "            }\n",
        "            \"\"\",\n",
        "            {\"Alpha\": Parameter(NumericValue(np.exp(-1.0 / tau_m)), decay_dtype),\n",
        "             \"Rho\": Parameter(NumericValue(np.exp(-1.0 / tau_a)), decay_dtype),\n",
        "             \"VThresh\": Parameter(NumericValue(v_thresh), v_dtype),\n",
        "             \"Beta\": Parameter(NumericValue(beta), v_dtype),\n",
        "             \"Weight\": Parameter(NumericValue(weight), v_dtype),\n",
        "             \"TauRefrac\": Parameter(NumericValue(tau_refrac), UnresolvedType(\"int16_t\"))},\n",
        "            {\"V\": self.v, \"A\": self.a, \"I\": self.i, \"RefracTime\": self.refrac_time})\n"
      ],
      "metadata": {
        "id": "yDxsR4xTs_Rp"
      },
      "execution_count": null,
      "outputs": []
    },
    {
      "cell_type": "code",
      "source": [
        "\n",
        "init_logging(PlogSeverity.DEBUG)\n",
        "\n",
        "# Model\n",
        "neurons = ALIF([32], 20.0, 2000, 5, 0.6, 0.0174, 0.01, num_timesteps)\n",
        "copy_v = Copy(neurons.v, num_timesteps)\n",
        "copy_a = Copy(neurons.a, num_timesteps)\n",
        "\n",
        "# Group processes\n",
        "neuron_update_processes = ProcessGroup([neurons.process])\n",
        "copy_process = ProcessGroup([copy_v.process, copy_a.process])\n",
        "\n",
        "# Create model\n",
        "model = Model([neuron_update_processes, copy_process])\n",
        "\n",
        "# Create backend and use to generate sim code\n",
        "backend = BackendFeNNSim()\n",
        "code = backend.generate_simulation_kernel([neuron_update_processes, copy_process],\n",
        "                                          [],\n",
        "                                          num_timesteps, model)\n",
        "\n",
        "# Disassemble if required\n",
        "if disassemble_code:\n",
        "    for i, c in enumerate(code):\n",
        "        print(f\"{i * 4} : {disassemble(c)}\")\n",
        "\n",
        "# Create runtime\n",
        "runtime = Runtime(model, backend)\n",
        "\n",
        "# Allocate memory for model\n",
        "runtime.allocate()\n",
        "\n",
        "# Zero remaining state\n",
        "zero_and_push(neurons.v, runtime)\n",
        "zero_and_push(neurons.a, runtime)\n",
        "zero_and_push(neurons.refrac_time, runtime)\n",
        "\n",
        "# Copy input currents to device\n",
        "input_i_array, input_i_view = get_array_view(runtime, neurons.i, np.int16)\n",
        "input_i_view[:] = repeated_data.flatten()\n",
        "input_i_array.push_to_device()\n",
        "\n",
        "# Set instructions\n",
        "runtime.set_instructions(code)\n",
        "\n",
        "# Simulate\n",
        "runtime.run()\n"
      ],
      "metadata": {
        "id": "LX_93iKa6Xdb"
      },
      "execution_count": null,
      "outputs": []
    },
    {
      "cell_type": "code",
      "source": [
        "\n",
        "neurons_v_copy_array, neurons_v_copy_view = get_array_view(runtime, copy_v.target,\n",
        "                                                           np.int16)\n",
        "neurons_a_copy_array, neurons_a_copy_view = get_array_view(runtime, copy_a.target,\n",
        "                                                           np.int16)\n",
        "\n",
        "neurons_v_copy_array.pull_from_device()\n",
        "neurons_a_copy_array.pull_from_device()\n",
        "\n",
        "# **YUCK** reshape\n",
        "neurons_v_copy_view = np.reshape(neurons_v_copy_view, (-1, 32))\n",
        "neurons_a_copy_view = np.reshape(neurons_a_copy_view, (-1, 32))\n",
        "\n",
        "# Calculate mean and standard deviation\n",
        "neurons_v_mean = np.average(neurons_v_copy_view, axis=1)\n",
        "neurons_v_std = np.std(neurons_v_copy_view, axis=1)\n",
        "neurons_a_mean = np.average(neurons_a_copy_view, axis=1)\n",
        "neurons_a_std = np.std(neurons_a_copy_view, axis=1)\n",
        "\n",
        "fig, axis = plt.subplots()\n",
        "\n",
        "a_axis = axis.twinx()\n",
        "\n",
        "axis.plot(neurons_v_mean)\n",
        "a_axis.plot(neurons_a_mean)\n",
        "plt.show()"
      ],
      "metadata": {
        "id": "s-GRMbj9s7dk"
      },
      "execution_count": null,
      "outputs": []
    }
  ]
}