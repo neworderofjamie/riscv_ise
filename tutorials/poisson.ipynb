{
  "nbformat": 4,
  "nbformat_minor": 0,
  "metadata": {
    "colab": {
      "provenance": [],
      "authorship_tag": "ABX9TyOfHDqnGDMd5RIC7AK6ibe0",
      "include_colab_link": true
    },
    "kernelspec": {
      "name": "python3",
      "display_name": "Python 3"
    },
    "language_info": {
      "name": "python"
    }
  },
  "cells": [
    {
      "cell_type": "markdown",
      "metadata": {
        "id": "view-in-github",
        "colab_type": "text"
      },
      "source": [
        "<a href=\"https://colab.research.google.com/github/neworderofjamie/riscv_ise/blob/compiler/tutorials/poisson.ipynb\" target=\"_parent\"><img src=\"https://colab.research.google.com/assets/colab-badge.svg\" alt=\"Open In Colab\"/></a>"
      ]
    },
    {
      "cell_type": "markdown",
      "source": [
        "There are lots of rough edges here: error checking is lacking in places, the compiler supports an even smaller subset of C than it should and the wrapping of various bits of API is not very Pythonic.\n",
        "\n",
        "# Installation\n",
        "The current prototype FeNN toolchain is a little bit tricky to build as it re-uses parts of GeNN (mostly the type system and the GeNNCode scanner, parser and type checker) so, on colab, we can install a prebuilt wheel from my google drive:"
      ],
      "metadata": {
        "id": "624VTiGFPybz"
      }
    },
    {
      "cell_type": "code",
      "execution_count": 26,
      "metadata": {
        "id": "eIzpesmnPvMD",
        "colab": {
          "base_uri": "https://localhost:8080/"
        },
        "outputId": "926a92f1-215d-4b7e-da36-6cb914fb0ad8"
      },
      "outputs": [
        {
          "output_type": "stream",
          "name": "stdout",
          "text": [
            "Downloading...\n",
            "From: https://drive.google.com/uc?id=1hEx5nI2ITfmrrjfidr5y1SyWnsjFI8Qq\n",
            "To: /content/pyfenn-0.0.1-cp311-cp311-linux_x86_64.whl\n",
            "\r  0% 0.00/6.38M [00:00<?, ?B/s]\r100% 6.38M/6.38M [00:00<00:00, 120MB/s]\n",
            "Processing ./pyfenn-0.0.1-cp311-cp311-linux_x86_64.whl\n",
            "Requirement already satisfied: numpy>=1.17 in /usr/local/lib/python3.11/dist-packages (from pyfenn==0.0.1) (2.0.2)\n",
            "Requirement already satisfied: psutil in /usr/local/lib/python3.11/dist-packages (from pyfenn==0.0.1) (5.9.5)\n",
            "Requirement already satisfied: setuptools in /usr/local/lib/python3.11/dist-packages (from pyfenn==0.0.1) (75.2.0)\n",
            "pyfenn is already installed with the same version as the provided wheel. Use --force-reinstall to force an installation of the wheel.\n"
          ]
        }
      ],
      "source": [
        "if \"google.colab\" in str(get_ipython()):\n",
        "    !gdown 1hEx5nI2ITfmrrjfidr5y1SyWnsjFI8Qq\n",
        "    !pip install pyfenn-0.0.1-cp311-cp311-linux_x86_64.whl"
      ]
    },
    {
      "cell_type": "code",
      "source": [
        "import numpy as np\n",
        "import matplotlib.pyplot as plt\n",
        "\n",
        "from pyfenn import (BackendFeNNSim, CopyProcess, Model, NeuronUpdateProcess,\n",
        "                    NumericValue, Parameter, ProcessGroup, RNGInitProcess,\n",
        "                    Runtime, Shape, UnresolvedType, Variable)\n",
        "\n",
        "from pyfenn import disassemble, init_logging\n",
        "from pyfenn.utils import get_array_view, seed_and_push\n",
        "from scipy.stats import poisson"
      ],
      "metadata": {
        "id": "JcqjzC6oQ8hI"
      },
      "execution_count": 27,
      "outputs": []
    },
    {
      "cell_type": "markdown",
      "source": [
        "# Parameters\n",
        "Define how many samples we want each poisson generator to sample at what rate:"
      ],
      "metadata": {
        "id": "hbD5klunxSrr"
      }
    },
    {
      "cell_type": "code",
      "source": [
        "num_samples = 100\n",
        "shape = [32]\n",
        "rate = 5000.0"
      ],
      "metadata": {
        "id": "pNGpO_jRvN7P"
      },
      "execution_count": 28,
      "outputs": []
    },
    {
      "cell_type": "markdown",
      "source": [
        "# Layer classes\n",
        "FeNN is programmed using a small number of primitive objects:\n",
        "*   ``Processes`` perform computation\n",
        "*   ``Variables`` are used to hold model state e.g. neuron variables and weights\n",
        "*   ``EventContainers`` are the primary means of communication between neuron processes\n",
        "\n",
        "The FeNN tools don't really enforce any particular style of modelling but you can easily use these primitives to create PyTorchesque layer objects. We start by creating a leaky integrator for the output layer. This integrates an input current + bias into a membrane voltage which is averaged over the trial. The update to be performed each timestep is implemented in a ``NeuronUpdateProcess`` which performs the same update to each neuron (as dictated by the same of the variables). In future, these processes might be Just-in-Time compiled from Python but, right now, they are implemented in [GeNNCode](https://genn-team.github.io/genn/documentation/5/custom_models.html#genncode). This is basically a subset of C with extensions for fixed-point types inspired by the [ISO standard extension](https://www.open-std.org/jtc1/sc22/wg14/www/docs/n1005.pdf). Here we define a Poisson generator using Knuth's algorithm (https://www.johndcook.com/blog/2010/06/14/generating-poisson-random-values/). Fixed-point types are specified as strings, for example s1_14_t is a signed 16-bit fixed point type (this is all FeNN currently supports) with 1 integer and 14 fractional bits. The ``fennrand()`` function will genrate a random number :"
      ],
      "metadata": {
        "id": "L3aOPKTBRB4k"
      }
    },
    {
      "cell_type": "code",
      "source": [
        "class Poisson:\n",
        "    def __init__(self, shape, rate: float):\n",
        "        self.shape = Shape(shape)\n",
        "        self.num_spikes = Variable(self.shape, UnresolvedType(\"int16_t\"))\n",
        "\n",
        "        self.process = NeuronUpdateProcess(\n",
        "            \"\"\"\n",
        "            s1_14_t p = 1.0h14;\n",
        "            NumSpikes = 0;\n",
        "            do\n",
        "            {\n",
        "                ++NumSpikes;\n",
        "                p *= fennrand();\n",
        "            } while (p > ExpMinusLambda);\n",
        "            --NumSpikes;\n",
        "            \"\"\",\n",
        "            {\"ExpMinusLambda\": Parameter(NumericValue(np.exp(-(rate / 1000))),\n",
        "                                         UnresolvedType(\"s1_14_t\"))},\n",
        "            {\"NumSpikes\": self.num_spikes},\n",
        "            {})\n"
      ],
      "metadata": {
        "id": "yDxsR4xTs_Rp"
      },
      "execution_count": 29,
      "outputs": []
    },
    {
      "cell_type": "markdown",
      "source": [
        "This is purely a hack because the DMA controller in FeNN is currently unable to directly copy data back to the host, but we define a ``CopyProcess`` which copies data back from FeNN into a memory space accessible by the host:"
      ],
      "metadata": {
        "id": "xKeauOSAyCyC"
      }
    },
    {
      "cell_type": "code",
      "source": [
        "class Copy:\n",
        "    def __init__(self, source: Variable, num_timesteps: int = 1):\n",
        "        self.target = Variable(source.shape,\n",
        "                               UnresolvedType(source.type),\n",
        "                               num_timesteps,\n",
        "                               f\"{source.name}_copy\")\n",
        "        self.process = CopyProcess(source, self.target)"
      ],
      "metadata": {
        "id": "lbN1cMHhvUsc"
      },
      "execution_count": 30,
      "outputs": []
    },
    {
      "cell_type": "markdown",
      "source": [
        "Like all random number generators, FeNN's needs 'seeding'. This is done by writing 64 16-bit values to some special registers which is handled by the ``RNGInitProcess``:"
      ],
      "metadata": {
        "id": "lba-c344xx7g"
      }
    },
    {
      "cell_type": "code",
      "source": [
        "class RNGInit:\n",
        "    def __init__(self):\n",
        "        self.seed = Variable(Shape([64]), UnresolvedType(\"int16_t\"))\n",
        "        self.process = RNGInitProcess(self.seed)\n"
      ],
      "metadata": {
        "id": "zzfOZPRwyPwl"
      },
      "execution_count": 31,
      "outputs": []
    },
    {
      "cell_type": "markdown",
      "source": [
        "# Model definition\n",
        "The FeNN tools can produce lots of helpful logging information so we initialise this system before we do anything else (if you use ``from pyfenn import PlogSeverity`` to import the enum you can then use e.g. ``PlogSeverity.DEBUG`` to control the logging level):"
      ],
      "metadata": {
        "id": "4Bsgu9YpRnWm"
      }
    },
    {
      "cell_type": "code",
      "source": [
        "init_logging()"
      ],
      "metadata": {
        "id": "w1TcXJlCRoVr"
      },
      "execution_count": 32,
      "outputs": []
    },
    {
      "cell_type": "markdown",
      "source": [
        "Then create a RNG initialisation process and one of the Poisson layers we defined above:"
      ],
      "metadata": {
        "id": "pZ5Arv_oRtu7"
      }
    },
    {
      "cell_type": "code",
      "source": [
        "rng_init = RNGInit()\n",
        "poisson_process = Poisson(shape, rate)"
      ],
      "metadata": {
        "id": "-agAHwHVSC_7"
      },
      "execution_count": 33,
      "outputs": []
    },
    {
      "cell_type": "markdown",
      "source": [
        "Then, one of our hacky copy processes to copy ``num_samples`` timesteps of spike counts back to the host:"
      ],
      "metadata": {
        "id": "fl_CR3f4SDqk"
      }
    },
    {
      "cell_type": "code",
      "source": [
        "copy_num_spikes = Copy(poisson_process.num_spikes, num_samples)"
      ],
      "metadata": {
        "id": "vxvDboIsSEeu"
      },
      "execution_count": 34,
      "outputs": []
    },
    {
      "cell_type": "markdown",
      "source": [
        "Process groups define computation that can be performed in parallel (in fact, on FeNN it's not but this won't be the case with e.g. GPU backends) so we group our initialisation, update and copy processes into seperate groups"
      ],
      "metadata": {
        "id": "wPChIfA1SDne"
      }
    },
    {
      "cell_type": "code",
      "source": [
        "init_processes = ProcessGroup([rng_init.process])\n",
        "update_processes = ProcessGroup([poisson_process.process])\n",
        "copy_processes = ProcessGroup([copy_num_spikes.process])"
      ],
      "metadata": {
        "id": "t-AlVNvBSVbi"
      },
      "execution_count": 35,
      "outputs": []
    },
    {
      "cell_type": "markdown",
      "source": [
        "Now we define a model which groups together all parts of our simulation:"
      ],
      "metadata": {
        "id": "onMrifFmSVKL"
      }
    },
    {
      "cell_type": "code",
      "source": [
        "model = Model([init_processes, update_processes, copy_processes])"
      ],
      "metadata": {
        "id": "s1n9Ux5rSU5G"
      },
      "execution_count": 36,
      "outputs": []
    },
    {
      "cell_type": "markdown",
      "source": [
        "# Simulation\n",
        "Sadly Google has yet to install FeNN nodes into it's cloud so for now we create a simulation backend (if you are lucky enough to be running on a Kria KV260 with the bitstream loaded, you should substitute ``BackendFeNNHW`` here) and use it to create a generic simulation kernel. The control flow of these kernels *will* be fully programmable but for now you can either create a really simple kernel which just runs a list of process groups or a 'simulation' kernel which offloads running a loop over time with a list of process groups in the body and another list that runs at the end (which we use here to copy output classifications off of FeNN). Here we generate both types of a kernel: a simple one to initialise the RNG and a simulation one to generate Poisson samples in a loop:"
      ],
      "metadata": {
        "id": "M_crPzk6Sect"
      }
    },
    {
      "cell_type": "code",
      "source": [
        "backend = BackendFeNNSim()\n",
        "init_code = backend.generate_kernel([init_processes], model)\n",
        "code = backend.generate_simulation_kernel([update_processes, copy_processes],\n",
        "                                          [],\n",
        "                                          num_samples, model)"
      ],
      "metadata": {
        "id": "bU3KjyiISU1Q"
      },
      "execution_count": 37,
      "outputs": []
    },
    {
      "cell_type": "markdown",
      "source": [
        "Now we have some code, we create a ``Runtime`` object to interact with the FeNN. We first use this to allocate the memory required for our model on FeNN:"
      ],
      "metadata": {
        "id": "-wcYbm0iSkwU"
      }
    },
    {
      "cell_type": "code",
      "source": [
        "runtime = Runtime(model, backend)\n",
        "runtime.allocate()"
      ],
      "metadata": {
        "id": "bQO4ctQ4SrA8"
      },
      "execution_count": 38,
      "outputs": []
    },
    {
      "cell_type": "markdown",
      "source": [
        "Now we use some helper functions to copy some randomness into the RNG seed:\n"
      ],
      "metadata": {
        "id": "scD37u6NS1RT"
      }
    },
    {
      "cell_type": "code",
      "source": [
        "seed_and_push(rng_init.seed, runtime)"
      ],
      "metadata": {
        "id": "LX_93iKa6Xdb"
      },
      "execution_count": 39,
      "outputs": []
    },
    {
      "cell_type": "markdown",
      "source": [
        "*Then* we upload and run the initialisation code generated by the backend to FeNN:"
      ],
      "metadata": {
        "id": "dJHGCpYrS_pG"
      }
    },
    {
      "cell_type": "code",
      "source": [
        "runtime.set_instructions(init_code)\n",
        "runtime.run()"
      ],
      "metadata": {
        "id": "b-DL2l7GxF7O"
      },
      "execution_count": 40,
      "outputs": []
    },
    {
      "cell_type": "markdown",
      "source": [
        "then, swap it out for the simulation code:"
      ],
      "metadata": {
        "id": "R3Oi2Li6zHe0"
      }
    },
    {
      "cell_type": "code",
      "source": [
        "runtime.set_instructions(code)"
      ],
      "metadata": {
        "id": "H4SpYyfyTAhs"
      },
      "execution_count": 41,
      "outputs": []
    },
    {
      "cell_type": "markdown",
      "source": [
        "and finally we run our kernel:"
      ],
      "metadata": {
        "id": "KaiAVa5XTKy1"
      }
    },
    {
      "cell_type": "code",
      "source": [
        "runtime.run()"
      ],
      "metadata": {
        "id": "Rd4dxnYwTLmB"
      },
      "execution_count": 42,
      "outputs": []
    },
    {
      "cell_type": "markdown",
      "source": [
        "Having filled up all of FeNN's memory with samples, we now want to access them! The ``Runtime`` object creates a bunch of 'Array' objects which are used to interact with model state so we first get them from the copy processes and copy their contents to the host:"
      ],
      "metadata": {
        "id": "x8ltWfjuUI--"
      }
    },
    {
      "cell_type": "code",
      "source": [
        "num_spikes_copy_array, num_spikes_copy_view = get_array_view(runtime, copy_num_spikes.target,\n",
        "                                                             np.int16)\n",
        "num_spikes_copy_array.pull_from_device()"
      ],
      "metadata": {
        "id": "s-GRMbj9s7dk"
      },
      "execution_count": 43,
      "outputs": []
    },
    {
      "cell_type": "markdown",
      "source": [
        "Finally, we can plot a histrogram of our samples"
      ],
      "metadata": {
        "id": "AKWx80XAUjSN"
      }
    },
    {
      "cell_type": "code",
      "source": [
        "x = np.arange(np.amin(num_spikes_copy_view), 1 + np.amax(num_spikes_copy_view))\n",
        "\n",
        "fig, axis = plt.subplots()\n",
        "axis.hist(num_spikes_copy_view, bins=x - 0.5, density=True, color=\"blue\")\n",
        "axis.scatter(x, poisson.pmf(x, rate / 1000.0), marker=\"_\", s=75, color=\"red\")\n",
        "axis.set_xlabel(\"k\")\n",
        "axis.set_ylabel(\"P(x=k)\")\n",
        "plt.show()"
      ],
      "metadata": {
        "colab": {
          "base_uri": "https://localhost:8080/",
          "height": 449
        },
        "id": "2helbJQCS51P",
        "outputId": "6e2080f6-2e79-4e2b-fe86-bdb730cdff50"
      },
      "execution_count": 49,
      "outputs": [
        {
          "output_type": "display_data",
          "data": {
            "text/plain": [
              "<Figure size 640x480 with 1 Axes>"
            ],
            "image/png": "[encoded data removed]"
          },
          "metadata": {}
        }
      ]
    },
    {
      "cell_type": "markdown",
      "source": [
        "# Disassembling 😥\n",
        "Sometimes it's cool to know what's happening under the hood so, by using the ``disassemble`` function you can disassemble the code produced be the backend into a slightly friendly form. A slightly outdated description of the instruction set is provided at https://github.com/neworderofjamie/riscv_ise/blob/master/docs/instruction_set.pdf"
      ],
      "metadata": {
        "id": "_IzKM1HQUzGv"
      }
    },
    {
      "cell_type": "code",
      "source": [
        "for i, c in enumerate(code):\n",
        "    print(f\"{i * 4} : {disassemble(c)}\")"
      ],
      "metadata": {
        "colab": {
          "base_uri": "https://localhost:8080/"
        },
        "id": "R-mrlqPySGJ7",
        "outputId": "fd34fd93-3791-4520-bf4d-37ae8081b253"
      },
      "execution_count": 45,
      "outputs": [
        {
          "output_type": "stream",
          "name": "stdout",
          "text": [
            "0 : ADDI X1, X0, 0\n",
            "4 : ADDI X2, X0, 100\n",
            "8 : VLUI V1, 0\n",
            "12 : VLUI V0, 16384\n",
            "16 : LW X4, 8(X0)\n",
            "20 : VLUI V2, 110\n",
            "24 : VLOAD V3, 0(X4)\n",
            "28 : ADDI X0, X0, 0\n",
            "32 : VADD V4, V0, V1\n",
            "36 : VADD V3, V1, V1\n",
            "40 : ADDI X3, X0, -1\n",
            "44 : VLUI V6, 1\n",
            "48 : VADD V5, V3, V6\n",
            "52 : VSEL V3, X3, V5\n",
            "56 : VRNG V5\n",
            "60 : VMUL V6, V4, V5, 15\n",
            "64 : VSEL V4, X3, V6\n",
            "68 : VTLT X5, V2, V4\n",
            "72 : AND X3, X3, X5\n",
            "76 : BNE X3, X0, -32\n",
            "80 : VLUI V5, 1\n",
            "84 : VSUB V3, V3, V5\n",
            "88 : VSTORE V3, 0(X4)\n",
            "92 : LW X4, 12(X0)\n",
            "96 : LW X3, 16(X0)\n",
            "100 : ADDI X6, X0, 64\n",
            "104 : ADD X5, X4, X6\n",
            "108 : MUL X7, X1, X6\n",
            "112 : ADD X3, X3, X7\n",
            "116 : VLOAD V0, 0(X4)\n",
            "120 : ADDI X0, X0, 0\n",
            "124 : VEXTRACT X6, V0, 0\n",
            "128 : SH X6, 0(X3)\n",
            "132 : VEXTRACT X6, V0, 1\n",
            "136 : SH X6, 2(X3)\n",
            "140 : VEXTRACT X6, V0, 2\n",
            "144 : SH X6, 4(X3)\n",
            "148 : VEXTRACT X6, V0, 3\n",
            "152 : SH X6, 6(X3)\n",
            "156 : VEXTRACT X6, V0, 4\n",
            "160 : SH X6, 8(X3)\n",
            "164 : VEXTRACT X6, V0, 5\n",
            "168 : SH X6, 10(X3)\n",
            "172 : VEXTRACT X6, V0, 6\n",
            "176 : SH X6, 12(X3)\n",
            "180 : VEXTRACT X6, V0, 7\n",
            "184 : SH X6, 14(X3)\n",
            "188 : VEXTRACT X6, V0, 8\n",
            "192 : SH X6, 16(X3)\n",
            "196 : VEXTRACT X6, V0, 9\n",
            "200 : SH X6, 18(X3)\n",
            "204 : VEXTRACT X6, V0, 10\n",
            "208 : SH X6, 20(X3)\n",
            "212 : VEXTRACT X6, V0, 11\n",
            "216 : SH X6, 22(X3)\n",
            "220 : VEXTRACT X6, V0, 12\n",
            "224 : SH X6, 24(X3)\n",
            "228 : VEXTRACT X6, V0, 13\n",
            "232 : SH X6, 26(X3)\n",
            "236 : VEXTRACT X6, V0, 14\n",
            "240 : SH X6, 28(X3)\n",
            "244 : VEXTRACT X6, V0, 15\n",
            "248 : SH X6, 30(X3)\n",
            "252 : VEXTRACT X6, V0, 16\n",
            "256 : SH X6, 32(X3)\n",
            "260 : VEXTRACT X6, V0, 17\n",
            "264 : SH X6, 34(X3)\n",
            "268 : VEXTRACT X6, V0, 18\n",
            "272 : SH X6, 36(X3)\n",
            "276 : VEXTRACT X6, V0, 19\n",
            "280 : SH X6, 38(X3)\n",
            "284 : VEXTRACT X6, V0, 20\n",
            "288 : SH X6, 40(X3)\n",
            "292 : VEXTRACT X6, V0, 21\n",
            "296 : SH X6, 42(X3)\n",
            "300 : VEXTRACT X6, V0, 22\n",
            "304 : SH X6, 44(X3)\n",
            "308 : VEXTRACT X6, V0, 23\n",
            "312 : SH X6, 46(X3)\n",
            "316 : VEXTRACT X6, V0, 24\n",
            "320 : SH X6, 48(X3)\n",
            "324 : VEXTRACT X6, V0, 25\n",
            "328 : SH X6, 50(X3)\n",
            "332 : VEXTRACT X6, V0, 26\n",
            "336 : SH X6, 52(X3)\n",
            "340 : VEXTRACT X6, V0, 27\n",
            "344 : SH X6, 54(X3)\n",
            "348 : VEXTRACT X6, V0, 28\n",
            "352 : SH X6, 56(X3)\n",
            "356 : VEXTRACT X6, V0, 29\n",
            "360 : SH X6, 58(X3)\n",
            "364 : VEXTRACT X6, V0, 30\n",
            "368 : SH X6, 60(X3)\n",
            "372 : VEXTRACT X6, V0, 31\n",
            "376 : SH X6, 62(X3)\n",
            "380 : ADDI X4, X4, 64\n",
            "384 : ADDI X3, X3, 64\n",
            "388 : BNE X4, X5, -272\n",
            "392 : ADDI X1, X1, 1\n",
            "396 : BNE X1, X2, -388\n",
            "400 : None\n"
          ]
        }
      ]
    }
  ]
}